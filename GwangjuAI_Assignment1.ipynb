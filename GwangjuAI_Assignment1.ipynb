{
  "nbformat": 4,
  "nbformat_minor": 0,
  "metadata": {
    "colab": {
      "name": "GwangjuAI_Assignment1.ipynb",
      "provenance": [],
      "collapsed_sections": [],
      "toc_visible": true,
      "authorship_tag": "ABX9TyMRR+uGSBIus0v/SoIGRX9S",
      "include_colab_link": true
    },
    "kernelspec": {
      "name": "python3",
      "display_name": "Python 3"
    }
  },
  "cells": [
    {
      "cell_type": "markdown",
      "metadata": {
        "id": "view-in-github",
        "colab_type": "text"
      },
      "source": [
        "<a href=\"https://colab.research.google.com/github/yst3147/Gwangju_AI/blob/master/GwangjuAI_Assignment1.ipynb\" target=\"_parent\"><img src=\"https://colab.research.google.com/assets/colab-badge.svg\" alt=\"Open In Colab\"/></a>"
      ]
    },
    {
      "cell_type": "code",
      "metadata": {
        "id": "YlHA-RQHMXKm",
        "colab_type": "code",
        "colab": {}
      },
      "source": [
        ""
      ],
      "execution_count": 0,
      "outputs": []
    },
    {
      "cell_type": "markdown",
      "metadata": {
        "id": "4AqKu6OFUg6b",
        "colab_type": "text"
      },
      "source": [
        "# 광주 인공지능사관학교 1주차 과제\n",
        "-----------------------------------\n",
        "\n",
        "## 언어 분야\n",
        "\n",
        "\n",
        "![네이버 파파고](https://ww.namu.la/s/9de3927fb80e21cf23ba0ccc2ae91e8d979307bd478e33ff63868803e002933549d45247229910a7a02273e2484f214c0276f699d18ab0cf245d81d10d755e7c421fc7156c5df184908a7bb6d0ff2d1a1a054347d4e45ca8ae6dc18ad9732369)\n",
        "\n",
        "* **네이버 파파고**\n",
        "\n",
        "  * 네이버가 선보인 **인공지능 기반 번역기**이다. \n",
        "  * 한국어, 일본어, 중국어, 영어, 스페인어, 프랑스어, 베트남어, 태국어, 인도네시아어, 독일어, 러시아어, 포르투갈어, 힌디어 13개의 언어를 번역할 수 있다. \n",
        "  * 텍스트나 음성 뿐 아니라 사진 속 문자까지 통·번역할 수 있다.\n",
        "  * 딥 러닝 기반의 번역기로 Naver Labs에서 자체 개발한 **인공신경망(Artificial Neural Network)** 기반이다.\n",
        "\n",
        "[네이버 파파고 나무위키](https://namu.wiki/w/%EB%84%A4%EC%9D%B4%EB%B2%84%20%ED%8C%8C%ED%8C%8C%EA%B3%A0?from=%ED%8C%8C%ED%8C%8C%EA%B3%A0)\n",
        "\n",
        "[네이버 파파고 활용법 유튜브 영상](https://www.youtube.com/watch?v=utFklWzMiIg)\n",
        "\n",
        "\n",
        "-----------------------------------\n",
        "\n",
        "## 음성 분야\n",
        "\n",
        "\n",
        "![KT 기가지니](https://w.namu.la/s/a0511b9d72c3b0d01a279b1c863ff62a42dcac655a0e7070d8a4998ce7a67f065f97d3674700602ab3b10bcfdede06a772ce365be70b4e9fe5a2d80ea3b3be548c7cf610861654e50a9cb6b6d6e580a675973953c0bad05bff883658a6cdc82ffb965223c22f34fdc2aa9ca67215b348)\n",
        "\n",
        "* **GiGA Genie**\n",
        "\n",
        "  * KT에서 출시된 셋톱박스 기능을 탑재한 **인공지능 스피커** 제품군이다. \n",
        "  * **'세계 최초로 IPTV와 인공지능의 융합으로 TV와 연계한 홈 비서 기능을 제공한다.'**는 멘트로 소개됐다. \n",
        "  * 다른 인공지능 스피커들과는 다르게 LTE통신이 가능한 것과, 기가지니 셋톱박스의 인공지능과 일부 기능들을 이어받은 것이 특징이다. \n",
        "  * 안드로이드 운영체제가 탑재되어 있다.\n",
        "  * 인공지능 스피커라는 제품 장르에 맞지 않게 GPS 위치 기술이 탑재되어 있으며, MHL 기술이 탑재되어 있다.\n",
        "\n",
        "[GiGA Genie 나무위키](https://namu.wiki/w/GiGA%20Genie)\n",
        "\n",
        "[GiGA Genie 사용기](https://brunch.co.kr/@wikitree/1314)\n",
        "\n",
        "-----------------------------------\n",
        "\n",
        "## 이미지 분야\n",
        "\n",
        "![구글 렌즈](https://upload.wikimedia.org/wikipedia/commons/thumb/f/f9/Google_Lens_-_new_logo.png/330px-Google_Lens_-_new_logo.png)\n",
        "\n",
        "* **구글 렌즈**\n",
        "\n",
        "  * **구글 렌즈(Google Lens)**는 구글이 발표한 기능의 하나이며 시각 분석을 사용하여 관련 정보를 가져오도록 설계되어 있다.\n",
        "  * 전화의 카메라를 물체에 갖다대면 구글 렌즈는 물체의 식별을 시도하고 관련 검색 결과와 정보를 표시한다.\n",
        "  * 렌즈는 더 진보화된 딥 러닝 루틴을 사용하며 이는 **빅스비(신형 삼성 스마트폰과 연동)**, **이미지 분석 툴셋(구글 플레이를 통해 이용 가능)** 등의 다른 앱들과 비슷하다. \n",
        "  * **인공 신경망**을 사용하여 물체, 랜드마크를 감지하고 식별하며 광학 문자 인식(OCR) 정확도를 개선한다.\n",
        "\n",
        "\n",
        "[구글 렌즈 위키백과](https://ko.wikipedia.org/wiki/%EA%B5%AC%EA%B8%80_%EB%A0%8C%EC%A6%88)\n",
        "\n",
        "[구글 렌즈 기능](http://www.itworld.co.kr/news/109218)\n",
        "\n",
        "---------------------------------------------------------------\n",
        "\n",
        "## 자율주행 분야\n",
        "\n",
        "![구글 무인 자동차](https://upload.wikimedia.org/wikipedia/commons/thumb/9/97/Google_self-driving_car_in_Mountain_View.jpg/330px-Google_self-driving_car_in_Mountain_View.jpg)\n",
        "\n",
        "* **구글 무인 자동차**\n",
        "\n",
        "  * **구글 무인 자동차**는 구글 슬렉스의 연구소에서 개발하는 **무인 자동차**이다.\n",
        "  * **구글 카**라는 이름으로도 알려져 있다.\n",
        "  * 집에서 고속도로까지만 직접 운전대를 잡고 고속도로에 진입하면 구글 무인 자동차를 작동시키는 소프트웨어인 **'구글 쇼퍼(chauffeur)'**가 알아서 운전한다.\n",
        "  * 이 자동차는 비디오 카메라, 방향표시기, 인공지능 소프트웨어, 위성위치정보시스템(GPS), 여러가지 센서 등을 기반으로 작동된다.\n",
        "\n",
        "\n",
        "[구글 무인 자동차 위키백과](https://ko.wikipedia.org/wiki/%EA%B5%AC%EA%B8%80_%EB%AC%B4%EC%9D%B8_%EC%9E%90%EB%8F%99%EC%B0%A8)\n",
        "\n",
        "[구글의 차세대 무인 자동차에 대한 흥미로운 사실과 가능성](http://www.itworld.co.kr/print/87764)\n",
        "\n",
        "\n",
        "\n",
        "\n"
      ]
    }
  ]
}